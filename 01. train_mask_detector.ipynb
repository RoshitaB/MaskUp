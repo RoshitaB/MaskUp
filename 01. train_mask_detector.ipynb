{
 "cells": [
  {
   "cell_type": "code",
   "execution_count": 2,
   "id": "6ad01198",
   "metadata": {},
   "outputs": [],
   "source": [
    "from tensorflow.keras.preprocessing.image import ImageDataGenerator\n",
    "from tensorflow.keras.applications import MobileNetV2\n",
    "from tensorflow.keras.layers import AveragePooling2D\n",
    "from tensorflow.keras.layers import Dropout\n",
    "from tensorflow.keras.layers import Flatten\n",
    "from tensorflow.keras.layers import Dense\n",
    "from tensorflow.keras.layers import Input\n",
    "from tensorflow.keras.models import Model\n",
    "from tensorflow.keras.optimizers import Adam\n",
    "from tensorflow.keras.applications.mobilenet_v2 import preprocess_input\n",
    "from tensorflow.keras.preprocessing.image import img_to_array\n",
    "from tensorflow.keras.preprocessing.image import load_img\n",
    "from tensorflow.keras.utils import to_categorical\n",
    "from sklearn.preprocessing import LabelBinarizer\n",
    "from sklearn.model_selection import train_test_split\n",
    "from sklearn.metrics import classification_report\n",
    "from imutils import paths\n",
    "import matplotlib.pyplot as plt\n",
    "import numpy as np\n",
    "import argparse\n",
    "import os"
   ]
  },
  {
   "cell_type": "code",
   "execution_count": 4,
   "id": "6af5b154",
   "metadata": {},
   "outputs": [],
   "source": [
    "#\n",
    "INIT_LR = 1e-4  #0.0004\n",
    "EPOCHS = 20\n",
    "BS = 32"
   ]
  },
  {
   "cell_type": "code",
   "execution_count": 5,
   "id": "de3eeff2",
   "metadata": {},
   "outputs": [],
   "source": [
    "DIRECTORY = 'dataset'\n",
    "CATEGORIES = [\"with mask\", \"without mask\"]\n",
    "#CATEGORIES[0]"
   ]
  },
  {
   "cell_type": "code",
   "execution_count": 6,
   "id": "356b94f0",
   "metadata": {},
   "outputs": [],
   "source": [
    "data = []\n",
    "targets = []"
   ]
  },
  {
   "cell_type": "code",
   "execution_count": 7,
   "id": "4254a9e2",
   "metadata": {},
   "outputs": [],
   "source": [
    "for category in CATEGORIES:\n",
    "    path = os.path.join(DIRECTORY, category)\n",
    "    for img in os.listdir(path):\n",
    "    \timg_path = os.path.join(path, img)\n",
    "    \timage = load_img(img_path, target_size=(224, 224))\n",
    "    \timage = img_to_array(image)\n",
    "    \timage = preprocess_input(image)\n",
    "\n",
    "    \tdata.append(image)\n",
    "    \ttargets.append(category)"
   ]
  },
  {
   "cell_type": "code",
   "execution_count": 8,
   "id": "3fa2d353",
   "metadata": {},
   "outputs": [
    {
     "data": {
      "text/plain": [
       "(224, 224, 3)"
      ]
     },
     "execution_count": 8,
     "metadata": {},
     "output_type": "execute_result"
    }
   ],
   "source": [
    "(data[6].shape)"
   ]
  },
  {
   "cell_type": "code",
   "execution_count": 9,
   "id": "52d815c7",
   "metadata": {},
   "outputs": [],
   "source": [
    "lb = LabelBinarizer()\n",
    "\n",
    "# transform multi-class labels to binary labels. \n",
    "targets = lb.fit_transform(targets)\n",
    "\n",
    "#returns a numpy array having columns equal to the number of categories in the data.\n",
    "# 'with mask' and 'without mask'\n",
    "targets = to_categorical(targets)"
   ]
  },
  {
   "cell_type": "code",
   "execution_count": 10,
   "id": "74a4e516",
   "metadata": {},
   "outputs": [],
   "source": [
    "data = np.array(data, dtype=\"float32\")\n",
    "targets = np.array(targets)"
   ]
  },
  {
   "cell_type": "code",
   "execution_count": 11,
   "id": "b3b7baad",
   "metadata": {},
   "outputs": [
    {
     "name": "stdout",
     "output_type": "stream",
     "text": [
      "[[1. 0.]\n",
      " [1. 0.]\n",
      " [1. 0.]\n",
      " ...\n",
      " [0. 1.]\n",
      " [0. 1.]\n",
      " [0. 1.]]\n"
     ]
    }
   ],
   "source": [
    "print(targets)"
   ]
  },
  {
   "cell_type": "code",
   "execution_count": 12,
   "id": "c9b375fd",
   "metadata": {},
   "outputs": [
    {
     "name": "stdout",
     "output_type": "stream",
     "text": [
      "[[[[ 0.7647059   0.6         0.18431377]\n",
      "   [ 0.67058825  0.54509807  0.13725495]\n",
      "   [ 0.8745098   0.79607844  0.39607847]\n",
      "   ...\n",
      "   [ 0.73333335  0.6627451   0.5294118 ]\n",
      "   [ 0.8980392   0.81960785  0.7411765 ]\n",
      "   [-0.46666664 -0.5686275  -0.6392157 ]]\n",
      "\n",
      "  [[ 0.62352943  0.45882356  0.12156868]\n",
      "   [ 0.7254902   0.5764706   0.24705887]\n",
      "   [ 0.8666667   0.7176471   0.4039216 ]\n",
      "   ...\n",
      "   [ 0.5686275   0.49803925  0.27058828]\n",
      "   [ 0.8901961   0.8901961   0.6862745 ]\n",
      "   [-0.5686275  -0.5058824  -0.67058825]]\n",
      "\n",
      "  [[ 0.6627451   0.52156866  0.20784318]\n",
      "   [ 0.7254902   0.5529412   0.24705887]\n",
      "   [ 0.8980392   0.67058825  0.4039216 ]\n",
      "   ...\n",
      "   [ 0.827451    0.75686276  0.43529415]\n",
      "   [ 0.62352943  0.6627451   0.34901965]\n",
      "   [-0.6862745  -0.5686275  -0.79607844]]\n",
      "\n",
      "  ...\n",
      "\n",
      "  [[-0.8901961  -0.8117647  -1.        ]\n",
      "   [-0.9607843  -0.92941177 -1.        ]\n",
      "   [-0.58431375 -0.5686275  -0.654902  ]\n",
      "   ...\n",
      "   [ 0.94509804  0.58431375  0.6       ]\n",
      "   [ 0.85882354  0.64705884  0.5137255 ]\n",
      "   [-0.41176468 -0.44313723 -0.654902  ]]\n",
      "\n",
      "  [[-0.70980394 -0.6        -0.8745098 ]\n",
      "   [-0.79607844 -0.7019608  -0.9843137 ]\n",
      "   [-0.67058825 -0.6313726  -0.7882353 ]\n",
      "   ...\n",
      "   [ 0.8901961   0.64705884  0.69411767]\n",
      "   [ 0.60784316  0.48235297  0.36470592]\n",
      "   [-0.70980394 -0.77254903 -0.9372549 ]]\n",
      "\n",
      "  [[-0.4588235  -0.31764704 -0.64705884]\n",
      "   [-0.62352943 -0.4823529  -0.8901961 ]\n",
      "   [-0.70980394 -0.6313726  -0.84313726]\n",
      "   ...\n",
      "   [ 0.84313726  0.6784314   0.79607844]\n",
      "   [ 0.6313726   0.56078434  0.52156866]\n",
      "   [-0.6627451  -0.73333335 -0.7882353 ]]]\n",
      "\n",
      "\n",
      " [[[ 0.05882359 -0.08235294 -0.25490195]\n",
      "   [ 0.06666672 -0.0745098  -0.23137254]\n",
      "   [ 0.082353   -0.08235294 -0.21568626]\n",
      "   ...\n",
      "   [-0.85882354 -0.827451   -0.7411765 ]\n",
      "   [-0.85882354 -0.827451   -0.7411765 ]\n",
      "   [-0.85882354 -0.827451   -0.7411765 ]]\n",
      "\n",
      "  [[ 0.04313731 -0.09019607 -0.24705881]\n",
      "   [ 0.04313731 -0.09019607 -0.23137254]\n",
      "   [ 0.05882359 -0.09019607 -0.2235294 ]\n",
      "   ...\n",
      "   [-0.85882354 -0.827451   -0.7411765 ]\n",
      "   [-0.85882354 -0.827451   -0.7411765 ]\n",
      "   [-0.85882354 -0.827451   -0.7411765 ]]\n",
      "\n",
      "  [[ 0.01176476 -0.11372548 -0.23921567]\n",
      "   [ 0.0196079  -0.10588235 -0.23137254]\n",
      "   [ 0.02745104 -0.11372548 -0.2235294 ]\n",
      "   ...\n",
      "   [-0.8352941  -0.81960785 -0.7254902 ]\n",
      "   [-0.84313726 -0.827451   -0.73333335]\n",
      "   [-0.8352941  -0.81960785 -0.7254902 ]]\n",
      "\n",
      "  ...\n",
      "\n",
      "  [[ 0.19215691  0.6313726   0.60784316]\n",
      "   [ 0.10588241  0.6156863   0.58431375]\n",
      "   [ 0.04313731  0.6         0.5686275 ]\n",
      "   ...\n",
      "   [ 0.5529412   0.75686276  0.73333335]\n",
      "   [ 0.5764706   0.77254903  0.7490196 ]\n",
      "   [ 0.6         0.77254903  0.75686276]]\n",
      "\n",
      "  [[ 0.11372554  0.58431375  0.5686275 ]\n",
      "   [ 0.04313731  0.58431375  0.56078434]\n",
      "   [-0.01176471  0.5764706   0.54509807]\n",
      "   ...\n",
      "   [ 0.49803925  0.7254902   0.6862745 ]\n",
      "   [ 0.5294118   0.7411765   0.7019608 ]\n",
      "   [ 0.54509807  0.7411765   0.70980394]]\n",
      "\n",
      "  [[ 0.07450986  0.58431375  0.5529412 ]\n",
      "   [ 0.01176476  0.5764706   0.54509807]\n",
      "   [-0.02745098  0.5686275   0.5372549 ]\n",
      "   ...\n",
      "   [ 0.45098042  0.69411767  0.64705884]\n",
      "   [ 0.47450984  0.7019608   0.6627451 ]\n",
      "   [ 0.5058824   0.7019608   0.67058825]]]\n",
      "\n",
      "\n",
      " [[[-0.85882354 -0.827451   -0.7411765 ]\n",
      "   [-0.8745098  -0.84313726 -0.75686276]\n",
      "   [-0.8745098  -0.84313726 -0.75686276]\n",
      "   ...\n",
      "   [ 0.09019613 -0.0745098  -0.20784312]\n",
      "   [ 0.09019613 -0.0745098  -0.20784312]\n",
      "   [ 0.05882359 -0.08235294 -0.25490195]]\n",
      "\n",
      "  [[-0.85882354 -0.827451   -0.7411765 ]\n",
      "   [-0.8745098  -0.84313726 -0.75686276]\n",
      "   [-0.8745098  -0.84313726 -0.75686276]\n",
      "   ...\n",
      "   [ 0.05882359 -0.09019607 -0.20784312]\n",
      "   [ 0.05882359 -0.09019607 -0.2235294 ]\n",
      "   [ 0.04313731 -0.09019607 -0.24705881]]\n",
      "\n",
      "  [[-0.84313726 -0.827451   -0.73333335]\n",
      "   [-0.84313726 -0.827451   -0.73333335]\n",
      "   [-0.8352941  -0.81960785 -0.7254902 ]\n",
      "   ...\n",
      "   [ 0.0196079  -0.12156862 -0.23137254]\n",
      "   [ 0.0196079  -0.12156862 -0.23137254]\n",
      "   [ 0.02745104 -0.09803921 -0.2235294 ]]\n",
      "\n",
      "  ...\n",
      "\n",
      "  [[ 0.5921569   0.7647059   0.7490196 ]\n",
      "   [ 0.6392157   0.8352941   0.8117647 ]\n",
      "   [ 0.6392157   0.8352941   0.8117647 ]\n",
      "   ...\n",
      "   [ 0.082353    0.67058825  0.6392157 ]\n",
      "   [ 0.18431377  0.7254902   0.7019608 ]\n",
      "   [ 0.11372554  0.54509807  0.52156866]]\n",
      "\n",
      "  [[ 0.5764706   0.7490196   0.7254902 ]\n",
      "   [ 0.56078434  0.75686276  0.7254902 ]\n",
      "   [ 0.52156866  0.73333335  0.69411767]\n",
      "   ...\n",
      "   [-0.09803921  0.52156866  0.49803925]\n",
      "   [ 0.06666672  0.6313726   0.60784316]\n",
      "   [ 0.17647064  0.64705884  0.6313726 ]]\n",
      "\n",
      "  [[ 0.45098042  0.64705884  0.6156863 ]\n",
      "   [ 0.43529415  0.64705884  0.60784316]\n",
      "   [ 0.4039216   0.6313726   0.5921569 ]\n",
      "   ...\n",
      "   [-0.23137254  0.39607847  0.37254906]\n",
      "   [-0.00392157  0.58431375  0.5529412 ]\n",
      "   [ 0.2313726   0.7411765   0.70980394]]]\n",
      "\n",
      "\n",
      " ...\n",
      "\n",
      "\n",
      " [[[-1.          0.09803927  0.7176471 ]\n",
      "   [-1.          0.09803927  0.7176471 ]\n",
      "   [-1.          0.09803927  0.7176471 ]\n",
      "   ...\n",
      "   [ 0.4901961   0.4666667   0.12941182]\n",
      "   [ 0.5137255   0.4901961   0.1686275 ]\n",
      "   [ 0.54509807  0.5294118   0.22352946]]\n",
      "\n",
      "  [[-1.          0.09803927  0.7176471 ]\n",
      "   [-1.          0.09803927  0.7176471 ]\n",
      "   [-0.99215686  0.10588241  0.7254902 ]\n",
      "   ...\n",
      "   [ 0.4431373   0.41960788  0.09803927]\n",
      "   [ 0.45882356  0.427451    0.12941182]\n",
      "   [ 0.5294118   0.49803925  0.20784318]]\n",
      "\n",
      "  [[-1.          0.09803927  0.7019608 ]\n",
      "   [-1.          0.09803927  0.7019608 ]\n",
      "   [-0.99215686  0.10588241  0.70980394]\n",
      "   ...\n",
      "   [ 0.41176474  0.3803922   0.082353  ]\n",
      "   [ 0.427451    0.39607847  0.09803927]\n",
      "   [ 0.5294118   0.49803925  0.20784318]]\n",
      "\n",
      "  ...\n",
      "\n",
      "  [[-0.8901961  -0.8745098  -0.9137255 ]\n",
      "   [-0.8901961  -0.8745098  -0.9137255 ]\n",
      "   [-0.8901961  -0.8745098  -0.9137255 ]\n",
      "   ...\n",
      "   [-0.92941177 -0.92941177 -0.94509804]\n",
      "   [-0.94509804 -0.94509804 -0.9607843 ]\n",
      "   [-0.94509804 -0.94509804 -0.94509804]]\n",
      "\n",
      "  [[-0.8980392  -0.88235295 -0.92156863]\n",
      "   [-0.8901961  -0.8745098  -0.9137255 ]\n",
      "   [-0.8901961  -0.8745098  -0.9137255 ]\n",
      "   ...\n",
      "   [-0.92156863 -0.92156863 -0.9372549 ]\n",
      "   [-0.92941177 -0.92941177 -0.94509804]\n",
      "   [-0.9372549  -0.9372549  -0.9372549 ]]\n",
      "\n",
      "  [[-0.8980392  -0.88235295 -0.92156863]\n",
      "   [-0.8980392  -0.88235295 -0.92156863]\n",
      "   [-0.8980392  -0.88235295 -0.92156863]\n",
      "   ...\n",
      "   [-0.92156863 -0.92156863 -0.9372549 ]\n",
      "   [-0.92156863 -0.92156863 -0.9372549 ]\n",
      "   [-0.92156863 -0.92156863 -0.92156863]]]\n",
      "\n",
      "\n",
      " [[[ 0.9843137   0.96862745  1.        ]\n",
      "   [ 1.          0.99215686  1.        ]\n",
      "   [ 1.          0.99215686  1.        ]\n",
      "   ...\n",
      "   [ 0.9607843   1.          1.        ]\n",
      "   [ 0.9607843   1.          1.        ]\n",
      "   [ 0.9764706   1.          1.        ]]\n",
      "\n",
      "  [[ 1.          1.          1.        ]\n",
      "   [ 0.99215686  0.99215686  1.        ]\n",
      "   [ 0.99215686  0.99215686  1.        ]\n",
      "   ...\n",
      "   [ 0.99215686  0.99215686  1.        ]\n",
      "   [ 0.9843137   0.9843137   1.        ]\n",
      "   [ 0.99215686  0.9764706   1.        ]]\n",
      "\n",
      "  [[ 0.99215686  1.          0.9843137 ]\n",
      "   [ 0.9764706   0.99215686  0.96862745]\n",
      "   [ 0.9843137   1.          0.9764706 ]\n",
      "   ...\n",
      "   [ 0.8980392   0.8117647   0.7647059 ]\n",
      "   [ 0.8980392   0.8117647   0.7647059 ]\n",
      "   [ 0.90588236  0.8039216   0.75686276]]\n",
      "\n",
      "  ...\n",
      "\n",
      "  [[ 1.          1.          1.        ]\n",
      "   [ 1.          1.          1.        ]\n",
      "   [ 1.          1.          1.        ]\n",
      "   ...\n",
      "   [ 0.7882353   0.6862745   0.62352943]\n",
      "   [ 0.8509804   0.78039217  0.7411765 ]\n",
      "   [ 0.9529412   0.9137255   0.8901961 ]]\n",
      "\n",
      "  [[ 1.          1.          1.        ]\n",
      "   [ 1.          1.          1.        ]\n",
      "   [ 1.          1.          1.        ]\n",
      "   ...\n",
      "   [ 0.69411767  0.5764706   0.52156866]\n",
      "   [ 0.7490196   0.6627451   0.6313726 ]\n",
      "   [ 0.8352941   0.77254903  0.75686276]]\n",
      "\n",
      "  [[ 1.          1.          1.        ]\n",
      "   [ 1.          1.          1.        ]\n",
      "   [ 1.          1.          1.        ]\n",
      "   ...\n",
      "   [ 0.6313726   0.52156866  0.45098042]\n",
      "   [ 0.67058825  0.58431375  0.5372549 ]\n",
      "   [ 0.73333335  0.67058825  0.654902  ]]]\n",
      "\n",
      "\n",
      " [[[ 0.84313726  0.8980392   0.5764706 ]\n",
      "   [ 0.9764706   1.          0.73333335]\n",
      "   [ 0.8666667   0.8352941   0.60784316]\n",
      "   ...\n",
      "   [ 1.          1.          0.94509804]\n",
      "   [ 0.90588236  0.8980392   0.8666667 ]\n",
      "   [ 0.84313726  0.84313726  0.85882354]]\n",
      "\n",
      "  [[ 0.8901961   0.92156863  0.6313726 ]\n",
      "   [ 0.85882354  0.8666667   0.6       ]\n",
      "   [ 0.94509804  0.9137255   0.7019608 ]\n",
      "   ...\n",
      "   [ 0.9843137   0.99215686  0.9529412 ]\n",
      "   [ 0.94509804  0.94509804  0.92941177]\n",
      "   [ 0.9372549   0.92941177  0.96862745]]\n",
      "\n",
      "  [[ 0.90588236  0.9137255   0.64705884]\n",
      "   [ 0.78039217  0.77254903  0.5294118 ]\n",
      "   [ 0.92156863  0.90588236  0.70980394]\n",
      "   ...\n",
      "   [ 0.85882354  0.8745098   0.8666667 ]\n",
      "   [ 0.92941177  0.92941177  0.94509804]\n",
      "   [ 0.99215686  0.9843137   1.        ]]\n",
      "\n",
      "  ...\n",
      "\n",
      "  [[ 0.06666672 -0.35686272 -0.56078434]\n",
      "   [-0.00392157 -0.44313723 -0.62352943]\n",
      "   [ 0.17647064 -0.31764704 -0.4352941 ]\n",
      "   ...\n",
      "   [ 0.94509804 -0.62352943 -0.54509807]\n",
      "   [ 0.9372549  -0.64705884 -0.6627451 ]\n",
      "   [ 0.8980392  -0.7411765  -0.79607844]]\n",
      "\n",
      "  [[-0.09803921 -0.7411765  -0.70980394]\n",
      "   [ 0.04313731 -0.5686275  -0.7411765 ]\n",
      "   [ 0.19215691 -0.29411763 -0.6156863 ]\n",
      "   ...\n",
      "   [ 0.7882353  -0.60784316 -0.60784316]\n",
      "   [ 1.         -0.60784316 -0.84313726]\n",
      "   [ 0.96862745 -0.49019605 -0.654902  ]]\n",
      "\n",
      "  [[ 0.15294123 -0.49019605 -0.4588235 ]\n",
      "   [-0.17647058 -0.7411765  -0.92941177]\n",
      "   [ 0.01176476 -0.40392154 -0.7490196 ]\n",
      "   ...\n",
      "   [ 0.8901961  -0.54509807 -0.5058824 ]\n",
      "   [ 1.         -0.6392157  -0.81960785]\n",
      "   [ 0.8666667  -0.6392157  -0.7254902 ]]]]\n"
     ]
    }
   ],
   "source": [
    "print(data)"
   ]
  },
  {
   "cell_type": "code",
   "execution_count": 13,
   "id": "06ca1056",
   "metadata": {},
   "outputs": [],
   "source": [
    "# train_test_split() performs the split and returns four sequences\n",
    "(trainX, testX, trainY, testY) = train_test_split(data, targets,\n",
    "\ttest_size=0.20, stratify=targets, random_state=42)"
   ]
  },
  {
   "cell_type": "code",
   "execution_count": 18,
   "id": "40541e10",
   "metadata": {},
   "outputs": [
    {
     "name": "stdout",
     "output_type": "stream",
     "text": [
      "(1100, 224, 224, 3) (276, 224, 224, 3) (1100, 2) (276, 2) 276\n"
     ]
    }
   ],
   "source": [
    "print( trainX.shape, testX.shape, trainY.shape, testY.shape)"
   ]
  },
  {
   "cell_type": "code",
   "execution_count": 12,
   "id": "99ecc9c7",
   "metadata": {},
   "outputs": [],
   "source": [
    "aug = ImageDataGenerator(\n",
    "\trotation_range=20,\n",
    "\tzoom_range=0.15,\n",
    "\twidth_shift_range=0.2,\n",
    "\theight_shift_range=0.2,\n",
    "\tshear_range=0.15,\n",
    "\thorizontal_flip=True,\n",
    "\tfill_mode=\"nearest\")"
   ]
  },
  {
   "cell_type": "code",
   "execution_count": 13,
   "id": "ac0d1648",
   "metadata": {},
   "outputs": [
    {
     "name": "stderr",
     "output_type": "stream",
     "text": [
      "/Users/roshitab/opt/anaconda3/envs/CWPProject1/lib/python3.7/site-packages/keras_applications/mobilenet_v2.py:294: UserWarning: `input_shape` is undefined or non-square, or `rows` is not in [96, 128, 160, 192, 224]. Weights for input shape (224, 224) will be loaded as the default.\n",
      "  warnings.warn('`input_shape` is undefined or non-square, '\n"
     ]
    }
   ],
   "source": [
    "# load the MobileNetV2 network, ensuring the head FC layer sets are\n",
    "# left off\n",
    "baseModel = MobileNetV2(weights=\"imagenet\", include_top=False,\n",
    "\tinput_tensor=Input(shape=(224, 224, 3)))"
   ]
  },
  {
   "cell_type": "code",
   "execution_count": 14,
   "id": "55300942",
   "metadata": {},
   "outputs": [],
   "source": [
    "headModel = baseModel.output\n",
    "headModel = AveragePooling2D(pool_size=(7, 7))(headModel)\n",
    "headModel = Flatten(name=\"flatten\")(headModel)\n",
    "\n",
    "# 128 refers to the neurons in the hidden layer\n",
    "headModel = Dense(128, activation=\"relu\")(headModel)\n",
    "\n",
    "# 0.5 refers to the fraction of the input that is dropped\n",
    "headModel = Dropout(0.5)(headModel)\n",
    "\n",
    "# 2 refers to the neurons in the output layer\n",
    "headModel = Dense(2, activation=\"softmax\")(headModel)"
   ]
  },
  {
   "cell_type": "code",
   "execution_count": 15,
   "id": "456880f2",
   "metadata": {},
   "outputs": [],
   "source": [
    "# place the head FC model on top of the base model (this will become\n",
    "# the actual model we will train)\n",
    "model = Model(inputs=baseModel.input, outputs=headModel)\n",
    "\n",
    "# loop over all layers in the base model and freeze them so they will\n",
    "# *not* be updated during the first training process\n",
    "for layer in baseModel.layers:\n",
    "\tlayer.trainable = False"
   ]
  },
  {
   "cell_type": "code",
   "execution_count": 16,
   "id": "2fe73e1b",
   "metadata": {},
   "outputs": [
    {
     "name": "stdout",
     "output_type": "stream",
     "text": [
      "[INFO] compiling model...\n"
     ]
    }
   ],
   "source": [
    "# compile our model\n",
    "print(\"[INFO] compiling model...\")\n",
    "opt = Adam(lr=INIT_LR, decay=INIT_LR / EPOCHS)\n",
    "model.compile(loss=\"binary_crossentropy\", optimizer=opt,\n",
    "\tmetrics=[\"accuracy\"])\n",
    "#accuracy computers the accuracy rate across all our predictions"
   ]
  },
  {
   "cell_type": "code",
   "execution_count": 17,
   "id": "73cead80",
   "metadata": {},
   "outputs": [
    {
     "name": "stdout",
     "output_type": "stream",
     "text": [
      "[INFO] training head...\n",
      "Train for 34 steps, validate on 276 samples\n",
      "Epoch 1/20\n",
      "34/34 [==============================] - 98s 3s/step - loss: 0.7153 - accuracy: 0.6283 - val_loss: 0.2656 - val_accuracy: 0.9219\n",
      "Epoch 2/20\n",
      "34/34 [==============================] - 94s 3s/step - loss: 0.4371 - accuracy: 0.8015 - val_loss: 0.1654 - val_accuracy: 0.9609\n",
      "Epoch 3/20\n",
      "34/34 [==============================] - 92s 3s/step - loss: 0.3288 - accuracy: 0.8605 - val_loss: 0.1208 - val_accuracy: 0.9766\n",
      "Epoch 4/20\n",
      "34/34 [==============================] - 95s 3s/step - loss: 0.2690 - accuracy: 0.8933 - val_loss: 0.0925 - val_accuracy: 0.9844\n",
      "Epoch 5/20\n",
      "34/34 [==============================] - 94s 3s/step - loss: 0.2152 - accuracy: 0.9213 - val_loss: 0.0831 - val_accuracy: 0.9844\n",
      "Epoch 6/20\n",
      "34/34 [==============================] - 96s 3s/step - loss: 0.2003 - accuracy: 0.9298 - val_loss: 0.0688 - val_accuracy: 0.9883\n",
      "Epoch 7/20\n",
      "34/34 [==============================] - 96s 3s/step - loss: 0.1717 - accuracy: 0.9260 - val_loss: 0.0551 - val_accuracy: 0.9883\n",
      "Epoch 8/20\n",
      "34/34 [==============================] - 96s 3s/step - loss: 0.1678 - accuracy: 0.9354 - val_loss: 0.0475 - val_accuracy: 0.9922\n",
      "Epoch 9/20\n",
      "34/34 [==============================] - 96s 3s/step - loss: 0.1325 - accuracy: 0.9569 - val_loss: 0.0640 - val_accuracy: 0.9844\n",
      "Epoch 10/20\n",
      "34/34 [==============================] - 95s 3s/step - loss: 0.1483 - accuracy: 0.9494 - val_loss: 0.0408 - val_accuracy: 0.9883\n",
      "Epoch 11/20\n",
      "34/34 [==============================] - 94s 3s/step - loss: 0.1247 - accuracy: 0.9560 - val_loss: 0.0483 - val_accuracy: 0.9883\n",
      "Epoch 12/20\n",
      "34/34 [==============================] - 94s 3s/step - loss: 0.1292 - accuracy: 0.9485 - val_loss: 0.0504 - val_accuracy: 0.9922\n",
      "Epoch 13/20\n",
      "34/34 [==============================] - 94s 3s/step - loss: 0.1278 - accuracy: 0.9494 - val_loss: 0.0478 - val_accuracy: 0.9883\n",
      "Epoch 14/20\n",
      "34/34 [==============================] - 97s 3s/step - loss: 0.1259 - accuracy: 0.9466 - val_loss: 0.0394 - val_accuracy: 0.9922\n",
      "Epoch 15/20\n",
      "34/34 [==============================] - 94s 3s/step - loss: 0.1034 - accuracy: 0.9616 - val_loss: 0.0327 - val_accuracy: 0.9922\n",
      "Epoch 16/20\n",
      "34/34 [==============================] - 95s 3s/step - loss: 0.1011 - accuracy: 0.9616 - val_loss: 0.0409 - val_accuracy: 0.9922\n",
      "Epoch 17/20\n",
      "34/34 [==============================] - 97s 3s/step - loss: 0.0993 - accuracy: 0.9616 - val_loss: 0.0264 - val_accuracy: 0.9922\n",
      "Epoch 18/20\n",
      "34/34 [==============================] - 94s 3s/step - loss: 0.1018 - accuracy: 0.9597 - val_loss: 0.0311 - val_accuracy: 0.9922\n",
      "Epoch 19/20\n",
      "34/34 [==============================] - 95s 3s/step - loss: 0.0853 - accuracy: 0.9700 - val_loss: 0.0346 - val_accuracy: 0.9922\n",
      "Epoch 20/20\n",
      "34/34 [==============================] - 96s 3s/step - loss: 0.0898 - accuracy: 0.9672 - val_loss: 0.0350 - val_accuracy: 0.9922\n"
     ]
    }
   ],
   "source": [
    "print(\"[INFO] training head...\")\n",
    "H = model.fit(\n",
    "\taug.flow(trainX, trainY, batch_size=BS),\n",
    "\tsteps_per_epoch=len(trainX) // BS,\n",
    "\tvalidation_data=(testX, testY),\n",
    "\tvalidation_steps=len(testX) // BS,\n",
    "\tepochs=EPOCHS)"
   ]
  },
  {
   "cell_type": "code",
   "execution_count": 18,
   "id": "b6ec5be1",
   "metadata": {},
   "outputs": [
    {
     "name": "stdout",
     "output_type": "stream",
     "text": [
      "[INFO] evaluating network...\n",
      "              precision    recall  f1-score   support\n",
      "\n",
      "   with mask       0.99      1.00      0.99       138\n",
      "without mask       1.00      0.99      0.99       138\n",
      "\n",
      "    accuracy                           0.99       276\n",
      "   macro avg       0.99      0.99      0.99       276\n",
      "weighted avg       0.99      0.99      0.99       276\n",
      "\n"
     ]
    }
   ],
   "source": [
    "print(\"[INFO] evaluating network...\")\n",
    "predIdxs = model.predict(testX, batch_size=BS)\n",
    "\n",
    "# for each image in the testing set we need to find the index of the\n",
    "# label with corresponding largest predicted probability\n",
    "predIdxs = np.argmax(predIdxs, axis=1)\n",
    "\n",
    "# show a nicely formatted classification report\n",
    "print(classification_report(testY.argmax(axis=1), predIdxs,\n",
    "\ttarget_names=lb.classes_))"
   ]
  },
  {
   "cell_type": "code",
   "execution_count": 19,
   "id": "3661b28d",
   "metadata": {},
   "outputs": [
    {
     "name": "stdout",
     "output_type": "stream",
     "text": [
      "[INFO] saving mask detector model...\n"
     ]
    }
   ],
   "source": [
    "print(\"[INFO] saving mask detector model...\")\n",
    "model.save(\"mask_detector.model\", save_format=\"h5\")"
   ]
  },
  {
   "cell_type": "code",
   "execution_count": 20,
   "id": "ad67b6cf",
   "metadata": {},
   "outputs": [
    {
     "data": {
      "image/png": "[encoded data removed]",
      "text/plain": [
       "<Figure size 432x288 with 1 Axes>"
      ]
     },
     "metadata": {},
     "output_type": "display_data"
    }
   ],
   "source": [
    "N = EPOCHS\n",
    "plt.style.use(\"ggplot\")\n",
    "plt.figure()\n",
    "plt.plot(np.arange(0, N), H.history[\"loss\"], label=\"train_loss\")\n",
    "plt.plot(np.arange(0, N), H.history[\"val_loss\"], label=\"val_loss\")\n",
    "plt.plot(np.arange(0, N), H.history[\"accuracy\"], label=\"train_acc\")\n",
    "plt.plot(np.arange(0, N), H.history[\"val_accuracy\"], label=\"val_acc\")\n",
    "plt.title(\"Training Loss and Accuracy\")\n",
    "plt.xlabel(\"Epoch #\")\n",
    "plt.ylabel(\"Loss/Accuracy\")\n",
    "plt.legend(loc=\"lower left\")\n",
    "plt.savefig(\"plot.png\")"
   ]
  }
 ],
 "metadata": {
  "kernelspec": {
   "display_name": "Python 3",
   "language": "python",
   "name": "python3"
  },
  "language_info": {
   "codemirror_mode": {
    "name": "ipython",
    "version": 3
   },
   "file_extension": ".py",
   "mimetype": "text/x-python",
   "name": "python",
   "nbconvert_exporter": "python",
   "pygments_lexer": "ipython3",
   "version": "3.8.8"
  }
 },
 "nbformat": 4,
 "nbformat_minor": 5
}
